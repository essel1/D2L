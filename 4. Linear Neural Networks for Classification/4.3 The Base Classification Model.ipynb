{
 "cells": [
  {
   "cell_type": "code",
   "execution_count": 11,
   "id": "0ea82c99-7006-40cc-aff8-82f759b2ae27",
   "metadata": {},
   "outputs": [],
   "source": [
    "import torch \n",
    "from d2l import torch as d2l"
   ]
  },
  {
   "cell_type": "code",
   "execution_count": 12,
   "id": "fd598d3c-800a-4a06-ad23-afa244b1ce25",
   "metadata": {},
   "outputs": [],
   "source": [
    "class Classifier(d2l.Module): #@save\n",
    "    \"\"\"The base class of classification models.\"\"\"\n",
    "    def validation_step(self,batch):\n",
    "        Y_hat = self(*batch[:-1])\n",
    "        self.plot('loss', self.loss(Y_hat, batch[-1]), train=False)\n",
    "        self.plot('acc', self.accuracy(Y_hat, batch[-1]), train=False)"
   ]
  },
  {
   "cell_type": "code",
   "execution_count": 13,
   "id": "4a1fd897-d38c-4676-9fd4-d57eb364b7fb",
   "metadata": {},
   "outputs": [],
   "source": [
    "@d2l.add_to_class(d2l.Module) #@save\n",
    "def configure_optimizers(self):\n",
    "    return torch.optim.SGD(self.parameters(), lr=self.lr)"
   ]
  },
  {
   "cell_type": "code",
   "execution_count": 16,
   "id": "81491980-76f8-4c1e-a5ae-f1d4cc5b42d3",
   "metadata": {},
   "outputs": [],
   "source": [
    "@d2l.add_to_class(Classifier) #@save\n",
    "def accuracy(self, Y_hat, Y, averaged = True):\n",
    "    \"\"\"Compute the number of correct predictions.\"\"\"\n",
    "    Y_hat = Y_hat.reshape((-1, Y_hat.shape[-1]))\n",
    "    preds = Y_hat.argmax(axis=1).type(Y.dtype)\n",
    "    compare = (preds == Y.reshape(-1)).type(torch.float32)\n",
    "    return compare.mean() if averaged else compare"
   ]
  },
  {
   "cell_type": "code",
   "execution_count": null,
   "id": "c2202470-ef33-47a1-a9cf-54fc8171919f",
   "metadata": {},
   "outputs": [],
   "source": []
  }
 ],
 "metadata": {
  "kernelspec": {
   "display_name": "Python 3 (ipykernel)",
   "language": "python",
   "name": "python3"
  },
  "language_info": {
   "codemirror_mode": {
    "name": "ipython",
    "version": 3
   },
   "file_extension": ".py",
   "mimetype": "text/x-python",
   "name": "python",
   "nbconvert_exporter": "python",
   "pygments_lexer": "ipython3",
   "version": "3.8.20"
  }
 },
 "nbformat": 4,
 "nbformat_minor": 5
}
