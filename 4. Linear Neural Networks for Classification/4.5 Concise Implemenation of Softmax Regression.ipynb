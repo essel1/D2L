{
 "cells": [
  {
   "cell_type": "code",
   "execution_count": 2,
   "id": "48b9d27f-0062-40fc-8390-01e8fefbcb7c",
   "metadata": {},
   "outputs": [],
   "source": [
    "import torch\n",
    "from torch import nn\n",
    "import torch.nn.functional as F\n",
    "import torchvision\n",
    "from torchvision import transforms"
   ]
  },
  {
   "cell_type": "code",
   "execution_count": 5,
   "id": "c4581566-5ea0-417b-a925-eefcaaefb232",
   "metadata": {},
   "outputs": [],
   "source": [
    "def add_to_class(Class):\n",
    "    def wrapper(obj):\n",
    "        setattr(Class,obj.__name__,obj)\n",
    "    return wrapper"
   ]
  },
  {
   "cell_type": "markdown",
   "id": "7e3148d1-8475-4af1-8235-e6a3e1e793a3",
   "metadata": {},
   "source": [
    "### Load Data"
   ]
  },
  {
   "cell_type": "code",
   "execution_count": 48,
   "id": "1c4d104d-404d-4901-9b57-a852ee4b423f",
   "metadata": {},
   "outputs": [],
   "source": [
    "class FashionMNIST():\n",
    "    def __init__(self, batch_size = 64, resize = (28,28), num_workers = 8):\n",
    "        # super.__init__()\n",
    "        trans = transforms.Compose([transforms.Resize(resize),transforms.ToTensor()])\n",
    "        self.train = torchvision.datasets.FashionMNIST(root=\"./data\", train = True, download=True, transform = trans)\n",
    "        self.val = torchvision.datasets.FashionMNIST(root=\"./data\", train = False, download =True, transform = trans)\n",
    "        self.batch_size = batch_size\n",
    "        self.num_workers = num_workers"
   ]
  },
  {
   "cell_type": "code",
   "execution_count": 24,
   "id": "d4183d9f-d72c-4d49-a2d0-f178f081b7d1",
   "metadata": {},
   "outputs": [],
   "source": [
    "@add_to_class(FashionMNIST)\n",
    "def get_dataloader(self,train):\n",
    "    X = self.train if train == True else self.val\n",
    "    return torch.utils.data.DataLoader(X, batch_size = self.batch_size, num_workers = self.num_workers, shuffle=train)"
   ]
  },
  {
   "cell_type": "code",
   "execution_count": 25,
   "id": "fc937963-975a-4ab6-b5b6-a56550ec232e",
   "metadata": {},
   "outputs": [],
   "source": [
    "data = FashionMNIST()"
   ]
  },
  {
   "cell_type": "code",
   "execution_count": 26,
   "id": "bee62a87-6a3d-4b80-909e-a7e8c97214d7",
   "metadata": {},
   "outputs": [
    {
     "data": {
      "text/plain": [
       "(torch.Size([64, 1, 28, 28]), torch.float32, torch.Size([64]), torch.int64)"
      ]
     },
     "execution_count": 26,
     "metadata": {},
     "output_type": "execute_result"
    }
   ],
   "source": [
    "train_dataloader = data.get_dataloader(train=True)\n",
    "X,y = next(iter(train_dataloader))\n",
    "X.shape, X.dtype, y.shape, y.dtype"
   ]
  },
  {
   "cell_type": "markdown",
   "id": "c15d457a-6aa1-4c63-b0ce-e3c07bcbc199",
   "metadata": {},
   "source": [
    "### Model"
   ]
  },
  {
   "cell_type": "code",
   "execution_count": 44,
   "id": "5da31ecc-6a23-40a8-833c-b280cc5692c1",
   "metadata": {},
   "outputs": [],
   "source": [
    "class model(nn.Module):\n",
    "    def __init__(self,num_outputs=10,lr=0.01):\n",
    "        super().__init__()\n",
    "        self.net = nn.LazyLinear(num_outputs)\n",
    "        self.net.weight.data.normal_(0,0.01)\n",
    "        self.net.bias.data.fill_(0)\n",
    "        self.lr = lr"
   ]
  },
  {
   "cell_type": "code",
   "execution_count": 49,
   "id": "ac15f725-57e8-466a-9ad0-a370d9966d49",
   "metadata": {},
   "outputs": [],
   "source": [
    "@add_to_class(model)\n",
    "def forward(X):\n",
    "    X = X.reshape(-1,self.net.weight.shape)\n",
    "    return softmax(net(X))"
   ]
  },
  {
   "cell_type": "code",
   "execution_count": 50,
   "id": "7e3b8f33-1ac7-4724-b8ad-d5b8dd791dd9",
   "metadata": {},
   "outputs": [],
   "source": [
    "@add_to_class(model)\n",
    "def loss(y_hat,y):\n",
    "    loss = nn.CrossEntropyLoss()\n",
    "    return loss(y_hat,y)"
   ]
  },
  {
   "cell_type": "code",
   "execution_count": 51,
   "id": "484988a6-fa31-47a8-9980-2075772bab4b",
   "metadata": {},
   "outputs": [],
   "source": [
    "@add_to_class(model)\n",
    "def configure_optimizer(self):\n",
    "    return torch.optim.SGD(self.parameters(), self.lr)"
   ]
  },
  {
   "cell_type": "markdown",
   "id": "f05c0059-3bb3-4c64-b399-717d153b6b27",
   "metadata": {},
   "source": [
    "### Training Step"
   ]
  },
  {
   "cell_type": "code",
   "execution_count": 52,
   "id": "03ace141-9cf4-40f5-954e-fb343c97cb1f",
   "metadata": {},
   "outputs": [],
   "source": [
    "from d2l import torch as d2l"
   ]
  },
  {
   "cell_type": "code",
   "execution_count": 53,
   "id": "14772e10-a2dd-42b0-9f50-543ae1e220e6",
   "metadata": {},
   "outputs": [
    {
     "ename": "TypeError",
     "evalue": "forward() missing 1 required positional argument: 'X'",
     "output_type": "error",
     "traceback": [
      "\u001b[1;31m---------------------------------------------------------------------------\u001b[0m",
      "\u001b[1;31mTypeError\u001b[0m                                 Traceback (most recent call last)",
      "Cell \u001b[1;32mIn[53], line 1\u001b[0m\n\u001b[1;32m----> 1\u001b[0m model \u001b[38;5;241m=\u001b[39m \u001b[43mmodel\u001b[49m\u001b[43m(\u001b[49m\u001b[43m)\u001b[49m\n\u001b[0;32m      2\u001b[0m data \u001b[38;5;241m=\u001b[39m FashionMNIST()\n\u001b[0;32m      3\u001b[0m trainer \u001b[38;5;241m=\u001b[39m d2l\u001b[38;5;241m.\u001b[39mTrainer(max_epochs \u001b[38;5;241m=\u001b[39m \u001b[38;5;241m3\u001b[39m)\n",
      "File \u001b[1;32m~\\anaconda3\\envs\\eval_env_1\\lib\\site-packages\\torch\\nn\\modules\\module.py:1553\u001b[0m, in \u001b[0;36mModule._wrapped_call_impl\u001b[1;34m(self, *args, **kwargs)\u001b[0m\n\u001b[0;32m   1551\u001b[0m     \u001b[38;5;28;01mreturn\u001b[39;00m \u001b[38;5;28mself\u001b[39m\u001b[38;5;241m.\u001b[39m_compiled_call_impl(\u001b[38;5;241m*\u001b[39margs, \u001b[38;5;241m*\u001b[39m\u001b[38;5;241m*\u001b[39mkwargs)  \u001b[38;5;66;03m# type: ignore[misc]\u001b[39;00m\n\u001b[0;32m   1552\u001b[0m \u001b[38;5;28;01melse\u001b[39;00m:\n\u001b[1;32m-> 1553\u001b[0m     \u001b[38;5;28;01mreturn\u001b[39;00m \u001b[38;5;28;43mself\u001b[39;49m\u001b[38;5;241;43m.\u001b[39;49m\u001b[43m_call_impl\u001b[49m\u001b[43m(\u001b[49m\u001b[38;5;241;43m*\u001b[39;49m\u001b[43margs\u001b[49m\u001b[43m,\u001b[49m\u001b[43m \u001b[49m\u001b[38;5;241;43m*\u001b[39;49m\u001b[38;5;241;43m*\u001b[39;49m\u001b[43mkwargs\u001b[49m\u001b[43m)\u001b[49m\n",
      "File \u001b[1;32m~\\anaconda3\\envs\\eval_env_1\\lib\\site-packages\\torch\\nn\\modules\\module.py:1562\u001b[0m, in \u001b[0;36mModule._call_impl\u001b[1;34m(self, *args, **kwargs)\u001b[0m\n\u001b[0;32m   1557\u001b[0m \u001b[38;5;66;03m# If we don't have any hooks, we want to skip the rest of the logic in\u001b[39;00m\n\u001b[0;32m   1558\u001b[0m \u001b[38;5;66;03m# this function, and just call forward.\u001b[39;00m\n\u001b[0;32m   1559\u001b[0m \u001b[38;5;28;01mif\u001b[39;00m \u001b[38;5;129;01mnot\u001b[39;00m (\u001b[38;5;28mself\u001b[39m\u001b[38;5;241m.\u001b[39m_backward_hooks \u001b[38;5;129;01mor\u001b[39;00m \u001b[38;5;28mself\u001b[39m\u001b[38;5;241m.\u001b[39m_backward_pre_hooks \u001b[38;5;129;01mor\u001b[39;00m \u001b[38;5;28mself\u001b[39m\u001b[38;5;241m.\u001b[39m_forward_hooks \u001b[38;5;129;01mor\u001b[39;00m \u001b[38;5;28mself\u001b[39m\u001b[38;5;241m.\u001b[39m_forward_pre_hooks\n\u001b[0;32m   1560\u001b[0m         \u001b[38;5;129;01mor\u001b[39;00m _global_backward_pre_hooks \u001b[38;5;129;01mor\u001b[39;00m _global_backward_hooks\n\u001b[0;32m   1561\u001b[0m         \u001b[38;5;129;01mor\u001b[39;00m _global_forward_hooks \u001b[38;5;129;01mor\u001b[39;00m _global_forward_pre_hooks):\n\u001b[1;32m-> 1562\u001b[0m     \u001b[38;5;28;01mreturn\u001b[39;00m \u001b[43mforward_call\u001b[49m\u001b[43m(\u001b[49m\u001b[38;5;241;43m*\u001b[39;49m\u001b[43margs\u001b[49m\u001b[43m,\u001b[49m\u001b[43m \u001b[49m\u001b[38;5;241;43m*\u001b[39;49m\u001b[38;5;241;43m*\u001b[39;49m\u001b[43mkwargs\u001b[49m\u001b[43m)\u001b[49m\n\u001b[0;32m   1564\u001b[0m \u001b[38;5;28;01mtry\u001b[39;00m:\n\u001b[0;32m   1565\u001b[0m     result \u001b[38;5;241m=\u001b[39m \u001b[38;5;28;01mNone\u001b[39;00m\n",
      "\u001b[1;31mTypeError\u001b[0m: forward() missing 1 required positional argument: 'X'"
     ]
    }
   ],
   "source": [
    "model = model()\n",
    "data = FashionMNIST()\n",
    "trainer = d2l.Trainer(max_epochs = 3)\n",
    "trainer.fit(model,data)"
   ]
  },
  {
   "cell_type": "code",
   "execution_count": null,
   "id": "d4f59d1e-bb99-4d1b-a919-5a61d25f5020",
   "metadata": {},
   "outputs": [],
   "source": []
  },
  {
   "cell_type": "code",
   "execution_count": null,
   "id": "64687a78-bf71-4cb6-97d3-5bdf347fd808",
   "metadata": {},
   "outputs": [],
   "source": []
  }
 ],
 "metadata": {
  "kernelspec": {
   "display_name": "Python 3 (ipykernel)",
   "language": "python",
   "name": "python3"
  },
  "language_info": {
   "codemirror_mode": {
    "name": "ipython",
    "version": 3
   },
   "file_extension": ".py",
   "mimetype": "text/x-python",
   "name": "python",
   "nbconvert_exporter": "python",
   "pygments_lexer": "ipython3",
   "version": "3.8.20"
  }
 },
 "nbformat": 4,
 "nbformat_minor": 5
}
