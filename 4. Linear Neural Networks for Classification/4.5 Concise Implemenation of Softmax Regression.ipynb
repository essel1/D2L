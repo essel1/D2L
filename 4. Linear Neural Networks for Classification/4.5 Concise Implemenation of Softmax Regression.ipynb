{
 "cells": [
  {
   "cell_type": "code",
   "execution_count": 75,
   "id": "48b9d27f-0062-40fc-8390-01e8fefbcb7c",
   "metadata": {},
   "outputs": [],
   "source": [
    "import torch\n",
    "from torch import nn\n",
    "import torch.nn.functional as F\n",
    "import torchvision\n",
    "from torchvision import transforms"
   ]
  },
  {
   "cell_type": "code",
   "execution_count": 76,
   "id": "c4581566-5ea0-417b-a925-eefcaaefb232",
   "metadata": {},
   "outputs": [],
   "source": [
    "def add_to_class(Class):\n",
    "    def wrapper(obj):\n",
    "        setattr(Class,obj.__name__,obj)\n",
    "    return wrapper"
   ]
  },
  {
   "cell_type": "markdown",
   "id": "7e3148d1-8475-4af1-8235-e6a3e1e793a3",
   "metadata": {},
   "source": [
    "### Load Data"
   ]
  },
  {
   "cell_type": "code",
   "execution_count": 77,
   "id": "1c4d104d-404d-4901-9b57-a852ee4b423f",
   "metadata": {},
   "outputs": [],
   "source": [
    "class FashionMNIST():\n",
    "    def __init__(self, batch_size = 64, resize = (28,28), num_workers = 8):\n",
    "        # super.__init__()\n",
    "        trans = transforms.Compose([transforms.Resize(resize),transforms.ToTensor()])\n",
    "        self.train = torchvision.datasets.FashionMNIST(root=\"./data\", train = True, download=True, transform = trans)\n",
    "        self.val = torchvision.datasets.FashionMNIST(root=\"./data\", train = False, download =True, transform = trans)\n",
    "        self.batch_size = batch_size\n",
    "        self.num_workers = num_workers"
   ]
  },
  {
   "cell_type": "code",
   "execution_count": 78,
   "id": "d4183d9f-d72c-4d49-a2d0-f178f081b7d1",
   "metadata": {},
   "outputs": [],
   "source": [
    "@add_to_class(FashionMNIST)\n",
    "def get_dataloader(self,train):\n",
    "    X = self.train if train == True else self.val\n",
    "    return torch.utils.data.DataLoader(X, batch_size = self.batch_size, num_workers = self.num_workers, shuffle=train)"
   ]
  },
  {
   "cell_type": "code",
   "execution_count": 79,
   "id": "fc937963-975a-4ab6-b5b6-a56550ec232e",
   "metadata": {},
   "outputs": [],
   "source": [
    "data = FashionMNIST()"
   ]
  },
  {
   "cell_type": "code",
   "execution_count": 80,
   "id": "bee62a87-6a3d-4b80-909e-a7e8c97214d7",
   "metadata": {},
   "outputs": [
    {
     "data": {
      "text/plain": [
       "(torch.Size([64, 1, 28, 28]), torch.float32, torch.Size([64]), torch.int64)"
      ]
     },
     "execution_count": 80,
     "metadata": {},
     "output_type": "execute_result"
    }
   ],
   "source": [
    "train_dataloader = data.get_dataloader(train=True)\n",
    "X,y = next(iter(train_dataloader))\n",
    "X.shape, X.dtype, y.shape, y.dtype"
   ]
  },
  {
   "cell_type": "markdown",
   "id": "c15d457a-6aa1-4c63-b0ce-e3c07bcbc199",
   "metadata": {},
   "source": [
    "### Model"
   ]
  },
  {
   "cell_type": "code",
   "execution_count": 110,
   "id": "5da31ecc-6a23-40a8-833c-b280cc5692c1",
   "metadata": {},
   "outputs": [],
   "source": [
    "class Model(nn.Module):\n",
    "    def __init__(self,num_outputs=10,lr=0.01):\n",
    "        super().__init__()\n",
    "        self.net = nn.Sequential(\n",
    "            nn.Flatten(),\n",
    "            nn.Linear(28*28,10),\n",
    "        )\n",
    "        self.lr = lr"
   ]
  },
  {
   "cell_type": "code",
   "execution_count": 111,
   "id": "ac15f725-57e8-466a-9ad0-a370d9966d49",
   "metadata": {},
   "outputs": [],
   "source": [
    "@add_to_class(Model)\n",
    "def forward(self,X):\n",
    "    logits = self.net(X)\n",
    "    return F.softmax(logits, dim=1)"
   ]
  },
  {
   "cell_type": "code",
   "execution_count": 134,
   "id": "7e3b8f33-1ac7-4724-b8ad-d5b8dd791dd9",
   "metadata": {},
   "outputs": [],
   "source": [
    "loss_fn = nn.CrossEntropyLoss()"
   ]
  },
  {
   "cell_type": "markdown",
   "id": "f05c0059-3bb3-4c64-b399-717d153b6b27",
   "metadata": {},
   "source": [
    "### Training Step"
   ]
  },
  {
   "cell_type": "code",
   "execution_count": 144,
   "id": "64687a78-bf71-4cb6-97d3-5bdf347fd808",
   "metadata": {},
   "outputs": [
    {
     "name": "stdout",
     "output_type": "stream",
     "text": [
      "epoch-1 : training loss -1.8637\n",
      "epoch-1 : test loss - 1.7640\n",
      "epoch-2 : training loss -1.7347\n",
      "epoch-2 : test loss - 1.7345\n",
      "epoch-3 : training loss -1.7103\n",
      "epoch-3 : test loss - 1.7181\n",
      "epoch-4 : training loss -1.6985\n",
      "epoch-4 : test loss - 1.7092\n",
      "epoch-5 : training loss -1.6910\n",
      "epoch-5 : test loss - 1.7035\n",
      "epoch-6 : training loss -1.6858\n",
      "epoch-6 : test loss - 1.6993\n",
      "epoch-7 : training loss -1.6817\n",
      "epoch-7 : test loss - 1.6955\n",
      "epoch-8 : training loss -1.6784\n",
      "epoch-8 : test loss - 1.6927\n",
      "epoch-9 : training loss -1.6756\n",
      "epoch-9 : test loss - 1.6905\n",
      "epoch-10 : training loss -1.6733\n",
      "epoch-10 : test loss - 1.6888\n"
     ]
    }
   ],
   "source": [
    "model = Model()\n",
    "data = FashionMNIST()\n",
    "optimizer = torch.optim.SGD(params = model.parameters(), lr = 0.1)\n",
    "\n",
    "max_epochs = 10\n",
    "train_dataloader = data.get_dataloader(train=True)\n",
    "val_dataloader = data.get_dataloader(train=False)\n",
    "\n",
    "train_loss = 0\n",
    "test_loss = 0 \n",
    "\n",
    "for epoch in range(0,max_epochs):\n",
    "\n",
    "    for X,y in train_dataloader:\n",
    "\n",
    "        preds = model(X)\n",
    "        loss = loss_fn(preds,y).mean()\n",
    "        train_loss += loss\n",
    "\n",
    "        optimizer.zero_grad()\n",
    "        loss.backward()\n",
    "        optimizer.step()\n",
    "\n",
    "    train_loss /= len(train_dataloader)\n",
    "\n",
    "    for X,y in val_dataloader:\n",
    "\n",
    "        with torch.inference_mode():\n",
    "            y_pred = model(X)\n",
    "        test_loss += loss_fn(y_pred, y)\n",
    "\n",
    "    test_loss /= len(val_dataloader)\n",
    "\n",
    "    print(f\"epoch-{epoch+1} : training loss -{ train_loss:.4f}\")\n",
    "    print(f\"epoch-{epoch+1} : test loss - {test_loss:.4f}\")\n",
    "    "
   ]
  },
  {
   "cell_type": "code",
   "execution_count": 143,
   "id": "d55c1e89-c031-4de2-b93a-67dbe680b20a",
   "metadata": {},
   "outputs": [
    {
     "name": "stdout",
     "output_type": "stream",
     "text": [
      "tensor([1]) tensor(1)\n"
     ]
    }
   ],
   "source": [
    "test_batch = data.get_dataloader(train=False)\n",
    "X,y = next(iter(test_batch))\n",
    "\n",
    "preds = model(X[15])\n",
    "output = preds.argmax(dim=-1)\n",
    "print(output, y[15])"
   ]
  }
 ],
 "metadata": {
  "kernelspec": {
   "display_name": "Python 3 (ipykernel)",
   "language": "python",
   "name": "python3"
  },
  "language_info": {
   "codemirror_mode": {
    "name": "ipython",
    "version": 3
   },
   "file_extension": ".py",
   "mimetype": "text/x-python",
   "name": "python",
   "nbconvert_exporter": "python",
   "pygments_lexer": "ipython3",
   "version": "3.8.20"
  }
 },
 "nbformat": 4,
 "nbformat_minor": 5
}
