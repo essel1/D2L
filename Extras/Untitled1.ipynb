{
 "cells": [
  {
   "cell_type": "code",
   "execution_count": 1,
   "id": "1c0ae61e-2aa3-4aeb-8fa5-6d0800c0bbf1",
   "metadata": {},
   "outputs": [],
   "source": [
    "import torch\n",
    "import torchvision\n",
    "from torchvision import transforms, datasets"
   ]
  },
  {
   "cell_type": "code",
   "execution_count": 4,
   "id": "d867df39-1662-4032-ae2e-1bb26b9190fc",
   "metadata": {},
   "outputs": [],
   "source": [
    "train = datasets.MNIST(\"\", train = True, download=False,\n",
    "                       transform = transforms.Compose([transforms.ToTensor()]))\n",
    "test = datasets.MNIST(\"\", train = False, download=False,\n",
    "                      transform = transforms.Compose([transforms.ToTensor()]))"
   ]
  },
  {
   "cell_type": "code",
   "execution_count": 47,
   "id": "4b2f427b-a56c-4033-a140-12ff663ac45d",
   "metadata": {},
   "outputs": [
    {
     "data": {
      "text/plain": [
       "['0 - zero',\n",
       " '1 - one',\n",
       " '2 - two',\n",
       " '3 - three',\n",
       " '4 - four',\n",
       " '5 - five',\n",
       " '6 - six',\n",
       " '7 - seven',\n",
       " '8 - eight',\n",
       " '9 - nine']"
      ]
     },
     "execution_count": 47,
     "metadata": {},
     "output_type": "execute_result"
    }
   ],
   "source": [
    "class_name = test.classes\n",
    "class_name"
   ]
  },
  {
   "cell_type": "code",
   "execution_count": 50,
   "id": "f3a7fc35-bc48-403b-8a53-5ebfde6a1634",
   "metadata": {
    "jupyter": {
     "source_hidden": true
    }
   },
   "outputs": [
    {
     "data": {
      "text/plain": [
       "(10000, 60000)"
      ]
     },
     "execution_count": 50,
     "metadata": {},
     "output_type": "execute_result"
    }
   ],
   "source": [
    "len(test), len(train)"
   ]
  },
  {
   "cell_type": "code",
   "execution_count": 60,
   "id": "fa8ec32d-9df6-4bb4-a4df-f2326ce3283a",
   "metadata": {},
   "outputs": [
    {
     "data": {
      "text/plain": [
       "(torch.Size([1, 28, 28]), torch.float32, 5, int)"
      ]
     },
     "execution_count": 60,
     "metadata": {},
     "output_type": "execute_result"
    }
   ],
   "source": [
    "img, label = train[0]\n",
    "img.shape, img.dtype, label, type(label)"
   ]
  },
  {
   "cell_type": "code",
   "execution_count": 61,
   "id": "af996e2e-fb30-4f68-b9e5-7b66a723c017",
   "metadata": {},
   "outputs": [
    {
     "data": {
      "image/png": "[encoded data removed]",
      "text/plain": [
       "<Figure size 600x400 with 1 Axes>"
      ]
     },
     "metadata": {},
     "output_type": "display_data"
    }
   ],
   "source": [
    "import matplotlib.pyplot as plt\n",
    "img = img.permute(1,2,0) #-> torch[C,H,W] matplotlib[H,W,C]\n",
    "\n",
    "plt.figure(figsize=(6,4))\n",
    "plt.imshow(img, cmap = \"gray\")\n",
    "plt.title(label)\n",
    "plt.axis(\"off\")\n",
    "plt.show()"
   ]
  },
  {
   "cell_type": "code",
   "execution_count": 5,
   "id": "32fd6152-99bb-492c-9e94-5272a4c7867e",
   "metadata": {},
   "outputs": [],
   "source": [
    "trainset = torch.utils.data.DataLoader(train, batch_size = 16, shuffle=True)\n",
    "testset = torch.utils.data.DataLoader(test, batch_size = 16, shuffle=True)"
   ]
  },
  {
   "cell_type": "code",
   "execution_count": 6,
   "id": "520f43be-8504-4cd1-9837-eef8d4937d03",
   "metadata": {},
   "outputs": [],
   "source": [
    "import torch.nn as nn\n",
    "import torch.nn.functional as F"
   ]
  },
  {
   "cell_type": "code",
   "execution_count": 93,
   "id": "f6edc14a-6d7d-4d78-8a60-24c6d20aef3f",
   "metadata": {},
   "outputs": [
    {
     "name": "stdout",
     "output_type": "stream",
     "text": [
      "Net(\n",
      "  (model): Sequential(\n",
      "    (0): Flatten(start_dim=1, end_dim=-1)\n",
      "    (1): Linear(in_features=784, out_features=128, bias=True)\n",
      "    (2): ReLU()\n",
      "    (3): Linear(in_features=128, out_features=64, bias=True)\n",
      "    (4): ReLU()\n",
      "    (5): Linear(in_features=64, out_features=32, bias=True)\n",
      "    (6): ReLU()\n",
      "    (7): Linear(in_features=32, out_features=16, bias=True)\n",
      "    (8): ReLU()\n",
      "    (9): Linear(in_features=16, out_features=10, bias=True)\n",
      "  )\n",
      ")\n"
     ]
    }
   ],
   "source": [
    "class Net(nn.Module):\n",
    "\n",
    "    def __init__(self):\n",
    "        super().__init__()\n",
    "        self.model = nn.Sequential(\n",
    "            nn.Flatten(),\n",
    "            nn.Linear(28*28,128),\n",
    "            nn.ReLU(),\n",
    "            nn.Linear(128,64),\n",
    "            nn.ReLU(),        \n",
    "            nn.Linear(64,32),\n",
    "            nn.ReLU(),\n",
    "            nn.Linear(32,16),\n",
    "            nn.ReLU(),\n",
    "            nn.Linear(16,10)\n",
    "        )\n",
    "\n",
    "    def forward(self,x):\n",
    "        return  self.model(x)\n",
    "\n",
    "\n",
    "net = Net().to(device)\n",
    "print(net)\n",
    "        "
   ]
  },
  {
   "cell_type": "code",
   "execution_count": 75,
   "id": "ccce074c-7ff4-4ada-826a-2b80af11ca6c",
   "metadata": {},
   "outputs": [
    {
     "name": "stdout",
     "output_type": "stream",
     "text": [
      "tensor([0, 4, 3, 7, 4, 9, 5, 9, 1, 6, 7, 6, 2, 2, 9, 6])\n"
     ]
    }
   ],
   "source": [
    "for data in trainset:\n",
    "    x,y = data\n",
    "    print(y)\n",
    "    break"
   ]
  },
  {
   "cell_type": "code",
   "execution_count": 76,
   "id": "11a52e00-0357-48c2-a71f-004343847bb2",
   "metadata": {},
   "outputs": [
    {
     "name": "stdout",
     "output_type": "stream",
     "text": [
      "tensor(0)\n"
     ]
    }
   ],
   "source": [
    "x_o, y_o = data[0][0], data[1][0]\n",
    "print(y_o)"
   ]
  },
  {
   "cell_type": "code",
   "execution_count": 77,
   "id": "50d8781f-8921-4041-94af-ee599287df4d",
   "metadata": {},
   "outputs": [],
   "source": [
    "x_o = x_o.view(-1,28*28)"
   ]
  },
  {
   "cell_type": "code",
   "execution_count": 78,
   "id": "e34ff342-b91e-4bf4-a6c1-35b1d18fbe5d",
   "metadata": {},
   "outputs": [
    {
     "data": {
      "text/plain": [
       "torch.Size([1, 784])"
      ]
     },
     "execution_count": 78,
     "metadata": {},
     "output_type": "execute_result"
    }
   ],
   "source": [
    "x_o.shape"
   ]
  },
  {
   "cell_type": "code",
   "execution_count": 81,
   "id": "415f56e9-2fcb-4ab6-84b5-1c463a545adf",
   "metadata": {},
   "outputs": [],
   "source": [
    "output = net(x_o.to(device))"
   ]
  },
  {
   "cell_type": "code",
   "execution_count": 82,
   "id": "cf4c92e0-821e-4c25-953f-c544145aa053",
   "metadata": {},
   "outputs": [
    {
     "name": "stdout",
     "output_type": "stream",
     "text": [
      "tensor([6], device='cuda:0')\n"
     ]
    }
   ],
   "source": [
    "print(output.argmax(dim=-1))"
   ]
  },
  {
   "cell_type": "code",
   "execution_count": 83,
   "id": "51b5e980-6340-4c58-86ab-57899329dae4",
   "metadata": {},
   "outputs": [
    {
     "data": {
      "text/plain": [
       "'cuda'"
      ]
     },
     "execution_count": 83,
     "metadata": {},
     "output_type": "execute_result"
    }
   ],
   "source": [
    "device = 'cuda' if torch.cuda.is_available() else 'cpu'\n",
    "device"
   ]
  },
  {
   "cell_type": "code",
   "execution_count": 88,
   "id": "8b198d4f-d8ac-4c99-a317-803eff73bb23",
   "metadata": {},
   "outputs": [
    {
     "data": {
      "text/plain": [
       "Parameter containing:\n",
       "tensor([[-0.0170,  0.0315, -0.0189,  ...,  0.0201, -0.0070,  0.0218],\n",
       "        [-0.0355,  0.0256,  0.0149,  ..., -0.0030, -0.0237,  0.0023],\n",
       "        [ 0.0158,  0.0213,  0.0111,  ...,  0.0044, -0.0156,  0.0282],\n",
       "        ...,\n",
       "        [-0.0103, -0.0204,  0.0313,  ...,  0.0039, -0.0161, -0.0237],\n",
       "        [-0.0323,  0.0085,  0.0204,  ..., -0.0218, -0.0345, -0.0019],\n",
       "        [-0.0247,  0.0281,  0.0278,  ..., -0.0037,  0.0212, -0.0122]],\n",
       "       device='cuda:0', requires_grad=True)"
      ]
     },
     "execution_count": 88,
     "metadata": {},
     "output_type": "execute_result"
    }
   ],
   "source": [
    "next(iter(net.parameters()))"
   ]
  },
  {
   "cell_type": "code",
   "execution_count": 90,
   "id": "28280e95-9bd0-43b4-b8cd-56df0924221d",
   "metadata": {},
   "outputs": [],
   "source": [
    "optimizer = torch.optim.SGD(params = net.parameters(),\n",
    "                           lr = 0.1)\n",
    "loss = nn.CrossEntropyLoss()"
   ]
  },
  {
   "cell_type": "code",
   "execution_count": 97,
   "id": "3c8c480b-5a32-480c-b1ee-b204b68c24a6",
   "metadata": {},
   "outputs": [
    {
     "name": "stdout",
     "output_type": "stream",
     "text": [
      "epoch - 0 : training loss - 2.3077\n",
      "epoch - 0 : test loss - 2.3084\n",
      "epoch - 1 : training loss - 2.3077\n",
      "epoch - 1 : test loss - 2.3084\n",
      "epoch - 2 : training loss - 2.3077\n",
      "epoch - 2 : test loss - 2.3084\n",
      "epoch - 3 : training loss - 2.3077\n",
      "epoch - 3 : test loss - 2.3084\n",
      "epoch - 4 : training loss - 2.3077\n",
      "epoch - 4 : test loss - 2.3084\n"
     ]
    }
   ],
   "source": [
    "epochs = 5\n",
    "\n",
    "for epoch in range(epochs):\n",
    "    train_loss, test_loss = 0 , 0\n",
    "    net.train()\n",
    "    for batch in trainset:\n",
    "        X,y = batch\n",
    "        X,y = X.to(device), y.to(device)\n",
    "\n",
    "        # Forward pass\n",
    "        y_hat = net(X)\n",
    "\n",
    "        # Loss compute\n",
    "        batch_loss = loss(y_hat,y)\n",
    "        train_loss += batch_loss\n",
    "\n",
    "        optimizer.zero_grad()\n",
    "        \n",
    "        # loss backward\n",
    "        batch_loss.backward()\n",
    "\n",
    "        # optimizer step\n",
    "        optimizer.step()\n",
    "\n",
    "    train_loss /= len(trainset)\n",
    "    print(f\"epoch - {epoch} : training loss - {train_loss:.4f}\")\n",
    "\n",
    "    net.eval()\n",
    "\n",
    "    for X,y in testset:\n",
    "        X,y = X.to(device), y.to(device)\n",
    "        with torch.inference_mode():\n",
    "            y_pred = net(X)\n",
    "        test_loss += loss(y_pred,y)\n",
    "    test_loss /= len(testset)\n",
    "    print(f\"epoch - {epoch} : test loss - {test_loss:.4f}\")\n",
    "       \n",
    "\n",
    "    "
   ]
  },
  {
   "cell_type": "code",
   "execution_count": 142,
   "id": "d9bb0c5b-7597-4e87-aa72-fbbdcf6f865a",
   "metadata": {},
   "outputs": [
    {
     "data": {
      "text/plain": [
       "(torch.Size([16, 1, 28, 28]),\n",
       " tensor([3, 3, 8, 9, 6, 4, 9, 1, 4, 2, 8, 6, 8, 6, 6, 8]))"
      ]
     },
     "execution_count": 142,
     "metadata": {},
     "output_type": "execute_result"
    }
   ],
   "source": [
    "img, label = next(iter(trainset))\n",
    "img.shape, label"
   ]
  },
  {
   "cell_type": "code",
   "execution_count": 143,
   "id": "0cb35cae-aabc-479c-b33e-8e540100ae16",
   "metadata": {},
   "outputs": [
    {
     "name": "stdout",
     "output_type": "stream",
     "text": [
      "tensor(3)\n"
     ]
    }
   ],
   "source": [
    "image = img[0]\n",
    "label = label[0]\n",
    "\n",
    "print(label)\n",
    "\n"
   ]
  },
  {
   "cell_type": "code",
   "execution_count": 144,
   "id": "802ebad5-d6e7-4d6e-9b5b-9c505751b930",
   "metadata": {},
   "outputs": [
    {
     "data": {
      "text/plain": [
       "torch.Size([1, 28, 28])"
      ]
     },
     "execution_count": 144,
     "metadata": {},
     "output_type": "execute_result"
    }
   ],
   "source": [
    "image.shape"
   ]
  },
  {
   "cell_type": "code",
   "execution_count": 145,
   "id": "83ece622-6b6b-43aa-a094-be0d8f95cc37",
   "metadata": {},
   "outputs": [
    {
     "data": {
      "text/plain": [
       "tensor([[-0.1096,  0.1162, -0.1767, -0.1186, -0.1911,  0.0252, -0.0679,  0.1751,\n",
       "          0.1341, -0.0656]], device='cuda:0', grad_fn=<AddmmBackward0>)"
      ]
     },
     "execution_count": 145,
     "metadata": {},
     "output_type": "execute_result"
    }
   ],
   "source": [
    "image = image.to(device)\n",
    "image_pred = net(image)\n",
    "image_pred"
   ]
  },
  {
   "cell_type": "code",
   "execution_count": 146,
   "id": "ac69a6d1-9a30-49e8-aee2-5a24da1a12fd",
   "metadata": {},
   "outputs": [
    {
     "data": {
      "text/plain": [
       "tensor(7, device='cuda:0')"
      ]
     },
     "execution_count": 146,
     "metadata": {},
     "output_type": "execute_result"
    }
   ],
   "source": [
    "image_pred.argmax()"
   ]
  },
  {
   "cell_type": "code",
   "execution_count": null,
   "id": "8bb2d1fd-27fd-40f5-9cba-91f51720c29e",
   "metadata": {},
   "outputs": [],
   "source": []
  }
 ],
 "metadata": {
  "kernelspec": {
   "display_name": "Python 3 (ipykernel)",
   "language": "python",
   "name": "python3"
  },
  "language_info": {
   "codemirror_mode": {
    "name": "ipython",
    "version": 3
   },
   "file_extension": ".py",
   "mimetype": "text/x-python",
   "name": "python",
   "nbconvert_exporter": "python",
   "pygments_lexer": "ipython3",
   "version": "3.8.20"
  }
 },
 "nbformat": 4,
 "nbformat_minor": 5
}
