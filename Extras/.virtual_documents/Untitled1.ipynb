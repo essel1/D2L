import torch
import torchvision
from torchvision import transforms, datasets


train = datasets.MNIST("", train = True,
                       transform = transforms.Compose([transforms.ToTensor()]))
test = datasets.MNIST("", train = False, download=False,
                      transform = transforms.Compose([transforms.ToTensor()]))


train[0]


class_name = test.classes
class_name


len(test), len(train)


img, label = train[0]
img.shape, img.dtype, label, type(label)


import matplotlib.pyplot as plt
img = img.permute(1,2,0) #-> torch[C,H,W] matplotlib[H,W,C]

plt.figure(figsize=(6,4))
plt.imshow(img, cmap = "gray")
plt.title(label)
plt.axis("off")
plt.show()


trainset = torch.utils.data.DataLoader(train, batch_size = 16, shuffle=True)
testset = torch.utils.data.DataLoader(test, batch_size = 16, shuffle=True)


import torch.nn as nn
import torch.nn.functional as F


class Net(nn.Module):

    def __init__(self):
        super().__init__()
        self.model = nn.Sequential(
            nn.Flatten(),
            nn.Linear(28*28,128),
            nn.ReLU(),
            nn.Linear(128,64),
            nn.ReLU(),        
            nn.Linear(64,32),
            nn.ReLU(),
            nn.Linear(32,16),
            nn.ReLU(),
            nn.Linear(16,10)
        )

    def forward(self,x):
        return  self.model(x)


net = Net().to(device)
print(net)
        


for data in trainset:
    x,y = data
    print(y)
    break


x_o, y_o = data[0][0], data[1][0]
print(y_o)


plt.imshow(x_o.view(28,28))


x_o = x_o.view(-1,28*28)


x_o.shape


output = net(x_o.to(device))


print(output.argmax(dim=-1))


device = 'cuda' if torch.cuda.is_available() else 'cpu'
device


next(iter(net.parameters()))


optimizer = torch.optim.SGD(params = net.parameters(),
                           lr = 0.1)
loss = nn.CrossEntropyLoss()


epochs = 5

for epoch in range(epochs):
    train_loss, test_loss = 0 , 0
    net.train()
    for batch in trainset:
        X,y = batch
        X,y = X.to(device), y.to(device)

        # Forward pass
        y_hat = net(X)

        # Loss compute
        batch_loss = loss(y_hat,y)
        train_loss += batch_loss

        optimizer.zero_grad()
        
        # loss backward
        batch_loss.backward()

        # optimizer step
        optimizer.step()

    train_loss /= len(trainset)
    print(f"epoch - {epoch} : training loss - {train_loss:.4f}")

    net.eval()

    for X,y in testset:
        X,y = X.to(device), y.to(device)
        with torch.inference_mode():
            y_pred = net(X)
        test_loss += loss(y_pred,y)
    test_loss /= len(testset)
    print(f"epoch - {epoch} : test loss - {test_loss:.4f}")
       

    


img, label = next(iter(trainset))
img.shape, label


image = img[0]
label = label[0]

print(label)




image.shape


image = image.to(device)
image_pred = net(image)
image_pred


image_pred.argmax()



