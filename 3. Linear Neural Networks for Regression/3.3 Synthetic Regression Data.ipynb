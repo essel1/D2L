{
 "cells": [
  {
   "cell_type": "code",
   "execution_count": 1,
   "id": "21a50841-2df5-434e-ba97-38df0548fff3",
   "metadata": {},
   "outputs": [],
   "source": [
    "%matplotlib inline\n",
    "import random \n",
    "import torch\n",
    "from d2l import torch as d2l"
   ]
  },
  {
   "cell_type": "markdown",
   "id": "f432f6f0-6b7d-4325-b362-d8db039a69fb",
   "metadata": {},
   "source": [
    "### Generating the Dataset"
   ]
  },
  {
   "cell_type": "code",
   "execution_count": 2,
   "id": "96991c74-b6d2-4981-871e-80cce4637c19",
   "metadata": {},
   "outputs": [],
   "source": [
    "class SyntheticRegressionData(d2l.DataModule): #@save\n",
    "    \"\"\"Synthetic data for linear regression.\"\"\"\n",
    "    def __init__(self, w, b, noise = 0.01, num_train=1000, num_val = 1000, batch_size = 32):\n",
    "        super().__init__()\n",
    "        self.save_hyperparameters()\n",
    "        n = num_train + num_val\n",
    "        self.X = torch.randn(n, len(w))\n",
    "        noise = torch.rand(n,1) * noise\n",
    "        self.y = torch.matmul(self.X, w.reshape((-1,1))) + b + noise"
   ]
  },
  {
   "cell_type": "code",
   "execution_count": 3,
   "id": "dfde42f2-f459-445c-95db-b916086eee61",
   "metadata": {},
   "outputs": [],
   "source": [
    "data = SyntheticRegressionData(w = torch.tensor([2,-3.4]),b=4.2)"
   ]
  },
  {
   "cell_type": "code",
   "execution_count": 4,
   "id": "3043573d-80d7-4048-bcc4-0538ab6051cc",
   "metadata": {},
   "outputs": [
    {
     "name": "stdout",
     "output_type": "stream",
     "text": [
      "features: tensor([2.1764, 0.6302]) \n",
      "label: tensor([6.4139])\n"
     ]
    }
   ],
   "source": [
    "print('features:', data.X[0], '\\nlabel:', data.y[0])"
   ]
  },
  {
   "cell_type": "markdown",
   "id": "90e6750a-b5ad-4b76-aaf2-d4e6120c1c95",
   "metadata": {},
   "source": [
    "### Reading the Dataset"
   ]
  },
  {
   "cell_type": "markdown",
   "id": "3f68ca93-811e-4f3c-8075-4d734c49e91b",
   "metadata": {},
   "source": [
    "Get_dataloader method works by taking a batch size, a matrix of features, and a vector of labels, and generates minibatches of size batch_size."
   ]
  },
  {
   "cell_type": "code",
   "execution_count": 6,
   "id": "0cbe4deb-51c3-438f-b658-eb6aefce35e6",
   "metadata": {},
   "outputs": [],
   "source": [
    "@d2l.add_to_class(SyntheticRegressionData)\n",
    "def get_dataloader(self,train):\n",
    "    if train:\n",
    "        indices = list(range(0,self.num_train))\n",
    "        random.shuffle(indices)\n",
    "    else:\n",
    "        indices = list(range(self.num_train,self.num_train+self.num_val))\n",
    "    for i in range(0,len(indices), self.batch_size):\n",
    "        batch_indices = torch.tensor(indices[i:i+self.batch_size])\n",
    "        yield self.X[batch_indices], self.y[batch_indices]"
   ]
  },
  {
   "cell_type": "code",
   "execution_count": 7,
   "id": "9634f450-d916-49a6-9f08-010e3232ed75",
   "metadata": {},
   "outputs": [
    {
     "name": "stdout",
     "output_type": "stream",
     "text": [
      "X shape: torch.Size([32, 2]) \n",
      "yshape: torch.Size([32, 1])\n"
     ]
    }
   ],
   "source": [
    "X,y = next(iter(data.train_dataloader()))\n",
    "print('X shape:', X.shape, '\\nyshape:',y.shape)"
   ]
  },
  {
   "cell_type": "markdown",
   "id": "43fe4a4a-529b-4bf6-985c-dcc418b3e84d",
   "metadata": {},
   "source": [
    "While the iteration implemented above is good for didactic purposes, it is inefficient in ways that might get us into trouble with real problems like we spend lots of RAM usage."
   ]
  },
  {
   "cell_type": "markdown",
   "id": "5de96d6d-a7b2-4641-928a-73768397a424",
   "metadata": {},
   "source": [
    "### Concise Implementation of the Data Loader"
   ]
  },
  {
   "cell_type": "markdown",
   "id": "48bb1c3e-3e41-4e2a-b346-bf29d271a37e",
   "metadata": {},
   "source": [
    "Rather than writing our own iterator, we can call the existing API in a framework to load data. As before, we need a dataset with features X and labels y. Beyond that, we set batch_size in the built-in data loader and let it take care of shufflinig examples efficiently."
   ]
  },
  {
   "cell_type": "code",
   "execution_count": 8,
   "id": "0e43183b-1cee-453c-9bb3-4ddb47cbdb67",
   "metadata": {},
   "outputs": [],
   "source": [
    "@d2l.add_to_class(d2l.DataModule) #@save\n",
    "def get_tensorloader(self, tensors, train, indices = slice(0,None)):\n",
    "    tensors = tuple(a[indices] for a in tensors)\n",
    "    dataset = torch.utils.data.TensorDataset(*tensors)\n",
    "    return torch.utils.data.DataLoader(dataset, self.batch_size, shuffle=train)\n",
    "\n",
    "@d2l.add_to_class(SyntheticRegressionData) #@save\n",
    "def get_dataloader(self,train):\n",
    "    i = slice(0, self.num_train) if train else slice(self.num_train,None)\n",
    "    return self.get_tensorloader((self.X, self.y), train, i)"
   ]
  },
  {
   "cell_type": "code",
   "execution_count": 9,
   "id": "dd6c4383-1862-4819-9143-db12c43ba983",
   "metadata": {},
   "outputs": [
    {
     "name": "stdout",
     "output_type": "stream",
     "text": [
      "X shape: torch.Size([32, 2]) \n",
      "y shape: torch.Size([32, 1])\n"
     ]
    }
   ],
   "source": [
    "X, y = next(iter(data.train_dataloader()))\n",
    "print('X shape:', X.shape, '\\ny shape:', y.shape)"
   ]
  },
  {
   "cell_type": "code",
   "execution_count": 10,
   "id": "a2a10652-e9b2-40e2-af53-201c4b8990cd",
   "metadata": {},
   "outputs": [
    {
     "data": {
      "text/plain": [
       "32"
      ]
     },
     "execution_count": 10,
     "metadata": {},
     "output_type": "execute_result"
    }
   ],
   "source": [
    "len(data.train_dataloader())"
   ]
  }
 ],
 "metadata": {
  "kernelspec": {
   "display_name": "Python 3 (ipykernel)",
   "language": "python",
   "name": "python3"
  },
  "language_info": {
   "codemirror_mode": {
    "name": "ipython",
    "version": 3
   },
   "file_extension": ".py",
   "mimetype": "text/x-python",
   "name": "python",
   "nbconvert_exporter": "python",
   "pygments_lexer": "ipython3",
   "version": "3.8.20"
  }
 },
 "nbformat": 4,
 "nbformat_minor": 5
}
