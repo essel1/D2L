{
 "cells": [
  {
   "cell_type": "code",
   "execution_count": 21,
   "id": "2ddd36a1-f255-4fe9-baa0-507a6cc46201",
   "metadata": {},
   "outputs": [],
   "source": [
    "import random\n",
    "import torch\n",
    "import numpy as np"
   ]
  },
  {
   "cell_type": "markdown",
   "id": "36ad1757-2432-4c58-aa39-3abc9757343c",
   "metadata": {},
   "source": [
    "### Data Synthesis"
   ]
  },
  {
   "cell_type": "code",
   "execution_count": 3,
   "id": "2ac51301-00c0-4b6b-8860-97f949779192",
   "metadata": {},
   "outputs": [],
   "source": [
    "def add_to_class(Class):\n",
    "    def wrapper(obj):\n",
    "        setattr(Class,obj.__name__,obj)\n",
    "    return wrapper"
   ]
  },
  {
   "cell_type": "code",
   "execution_count": 25,
   "id": "c401d65d-1c2e-4349-a213-86df6907db2a",
   "metadata": {},
   "outputs": [],
   "source": [
    "class LinearDataSynthesis():\n",
    "\n",
    "    def __init__(self, w, b, num_train, num_val, noise = 0.01, lr = 0.01):\n",
    "        self.w = w\n",
    "        self.b = b\n",
    "        self.lr = lr\n",
    "        self.num_train = num_train\n",
    "        self.num_val = num_val\n",
    "        n = num_train + num_val\n",
    "        error = torch.randn(n)\n",
    "        self.X = torch.normal(4,0.1,(n, len(w)))\n",
    "        self.y = self.X @ self.w.T + self.b + error"
   ]
  },
  {
   "cell_type": "code",
   "execution_count": 26,
   "id": "40d68b57-da73-47bb-9b47-948b6af0b69c",
   "metadata": {},
   "outputs": [],
   "source": [
    "@add_to_class(LinearDataSynthesis)\n",
    "def data_info(data):\n",
    "    print(\"Shape of the input data is \", data.X.shape)\n",
    "    print(\"Some instances of the data is\\n\", data.X[0:5], data.y[0:5])\n",
    "    print(\"Number of training and validation sample are\", data.num_train, data.num_val)"
   ]
  },
  {
   "cell_type": "code",
   "execution_count": 27,
   "id": "b53bb6b5-a1c1-4fbb-ae18-d7f7da721405",
   "metadata": {},
   "outputs": [
    {
     "name": "stdout",
     "output_type": "stream",
     "text": [
      "Shape of the input data is  torch.Size([1500, 2])\n",
      "Some instances of the data is\n",
      " tensor([[3.9907, 3.9475],\n",
      "        [4.0701, 3.8816],\n",
      "        [4.1597, 3.9740],\n",
      "        [3.7897, 4.1804],\n",
      "        [3.9813, 4.1963]]) tensor([-2.1404, -0.1154, -2.4128, -3.9544, -1.5135])\n",
      "Number of training and validation sample are 1000 500\n"
     ]
    }
   ],
   "source": [
    "data = LinearDataSynthesis(w=torch.tensor([2.0,-3.4]),b=4.0,num_train=1000,num_val=500)\n",
    "data.data_info()"
   ]
  },
  {
   "cell_type": "markdown",
   "id": "b888d5f5-2cda-4e79-99b8-c9a56092df6b",
   "metadata": {},
   "source": [
    "### Defining the model"
   ]
  },
  {
   "cell_type": "code",
   "execution_count": 39,
   "id": "2dd8c5da-96f1-4974-8218-2ee734af5e54",
   "metadata": {},
   "outputs": [],
   "source": [
    "class LinearRegression():\n",
    "\n",
    "    def __init__(self,w,b,num_train,num_val):\n",
    "        self.w = w\n",
    "        self.b = b\n",
    "        self.num_train = num_train\n",
    "        self.num_val = num_val"
   ]
  },
  {
   "cell_type": "code",
   "execution_count": 30,
   "id": "4e4337f7-8bb1-4ec7-b5cb-7c17bee720d8",
   "metadata": {},
   "outputs": [],
   "source": [
    "@add_to_class(LinearRegression)\n",
    "def forward_pass(self,X):\n",
    "    return X @ self.w.T + self.w.b"
   ]
  },
  {
   "cell_type": "code",
   "execution_count": 31,
   "id": "66fb8df6-d12f-4456-bba8-eefbad042b65",
   "metadata": {},
   "outputs": [],
   "source": [
    "@add_to_class(LinearRegression)\n",
    "def compute_loss(y,y_hat):\n",
    "    return 1/2*(y-y_hat) **2"
   ]
  },
  {
   "cell_type": "code",
   "execution_count": null,
   "id": "a9a3b0e1-eae7-4d80-9723-e1badf4611b2",
   "metadata": {},
   "outputs": [],
   "source": []
  },
  {
   "cell_type": "markdown",
   "id": "e21a748b-7914-4aaf-af51-c490754e2e0b",
   "metadata": {},
   "source": [
    "### Dataloader"
   ]
  },
  {
   "cell_type": "code",
   "execution_count": 32,
   "id": "f7beb395-423d-4bc6-89fa-32ce5b888067",
   "metadata": {},
   "outputs": [],
   "source": [
    "@add_to_class(LinearRegression)\n",
    "def dataloader(self,train, batch_size):\n",
    "    num_train = self.num_train\n",
    "    num_val = self.num_val\n",
    "    if train:\n",
    "        indices = list(range(0,num_train))\n",
    "        random.shuffle(indices)\n",
    "    else:\n",
    "        indices = list(range(num_train,num_train+num_val))\n",
    "    for i in range(0,len(indices),batch_size):\n",
    "        yield self.X[indices:indices+batch_size], self.y[indices:indices+batch_size]    "
   ]
  },
  {
   "cell_type": "markdown",
   "id": "afd76df4-f842-4728-913d-58338649cd8c",
   "metadata": {},
   "source": [
    "### Training Loop"
   ]
  },
  {
   "cell_type": "code",
   "execution_count": 36,
   "id": "8aaa90e5-13c7-47ce-9a66-13bd99bad744",
   "metadata": {},
   "outputs": [
    {
     "name": "stdout",
     "output_type": "stream",
     "text": [
      "tensor([[0.1417],\n",
      "        [0.2472]]) tensor([0.4769])\n"
     ]
    }
   ],
   "source": [
    "max_epoch = 5\n",
    "batch_size = 16\n",
    "random_weights = torch.rand(2,1)\n",
    "random_bias = torch.rand(1)\n",
    "\n",
    "print(random_weights, random_bias)     "
   ]
  },
  {
   "cell_type": "code",
   "execution_count": 40,
   "id": "363fe6c5-6f63-48dd-887d-32db37cc613a",
   "metadata": {},
   "outputs": [],
   "source": [
    "model = LinearRegression(w = random_weights, b = random_bias, num_train=1000, num_val=500)"
   ]
  },
  {
   "cell_type": "code",
   "execution_count": null,
   "id": "869c9199-8a80-4916-baa6-ce1ef1c6ff18",
   "metadata": {},
   "outputs": [],
   "source": []
  }
 ],
 "metadata": {
  "kernelspec": {
   "display_name": "Python 3 (ipykernel)",
   "language": "python",
   "name": "python3"
  },
  "language_info": {
   "codemirror_mode": {
    "name": "ipython",
    "version": 3
   },
   "file_extension": ".py",
   "mimetype": "text/x-python",
   "name": "python",
   "nbconvert_exporter": "python",
   "pygments_lexer": "ipython3",
   "version": "3.8.20"
  }
 },
 "nbformat": 4,
 "nbformat_minor": 5
}
