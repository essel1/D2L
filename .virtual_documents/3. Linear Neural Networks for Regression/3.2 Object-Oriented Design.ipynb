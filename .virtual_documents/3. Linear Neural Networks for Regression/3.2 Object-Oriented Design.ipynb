





import time
import numpy as np
import torch
from torch import nn
from d2l import torch as d2l








def add_to_class(Class): #@save
    """Register functions as methods in created class."""
    def wrapper(obj):
        setattr(Class,obj.__name__, obj)
    return wrapper





class A:
    def __init__(self):
        self.b = 1

a = A()


@add_to_class(A)
def do(self):
    print("Attribute of b is", self.b)

a.do()





class HyperParameters: #@save
    """The base class of hyperparameters."""
    def save_hyperparammeters(self, ignore=[]):
        raise NotImplemented


class B(d2l.HyperParameters):
    def __init__(self, a, b, c):
        self.save_hyperparameters(ignore=['c'])
        print('self.a=',self.a, 'self.b=', self.b)
        print('There is no self.c=', not hasattr(self,'c'))
b = B(a=1,b=2,c=3)



