import torch


A = torch.arange(12).reshape(3,4)
print(A)
print(A.T)








A = torch.arange(24).reshape(2,3,4)
B = A.clone()
A*B, A+B, A





A.shape, (A*A).shape





x = torch.arange(6, dtype = float).reshape(3,2)
x, x.sum()








x.sum(axis = 0), x.sum(axis = 1)








non_reduced_sum = x.sum(axis=1, keepdims = True)


non_reduced_sum


x.shape, non_reduced_sum.shape


x / non_reduced_sum





print(x)
x.cumsum(axis = 0)





y = torch.arange(6, dtype = float).reshape(3,2)
y


x * y





torch.sum(x*y)





A.shape, x.shape


A = torch.rand(6,2,3, dtype = float)


A@x


A, x





A = torch.arange(6, dtype = float).reshape(2,3)
B = torch.ones(3,2, dtype = float)

A,B



torch.mm(A,B), A@B















u = torch.tensor([2.0,-2.0])
torch.norm(u)





torch.abs(u).sum()








V = torch.ones(3,3)
torch.norm(V)



