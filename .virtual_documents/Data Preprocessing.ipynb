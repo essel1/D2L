import pandas as pd


import torch


import os

os.makedirs(os.path.join('.', 'data'), exist_ok=True)
data_file = os.path.join('.', 'data', 'house_tiny.csv')
with open(data_file, 'w') as f:
    f.write('''NumRooms,RoofType,Price
NA,NA,127500
2,NA,106000
4,Slate,178100
NA,NA,140000''')


data = pd.read_csv(data_file)
print(data)





inputs, targets = data.iloc[ :, 0:2], data.iloc[:, 2]
inputs = pd.get_dummies(inputs, dummy_na = True)
print(inputs)


inputs = inputs.fillna(inputs.mean())
print(inputs)





import numpy as np
input_numpy  = inputs.to_numpy(dtype=np.float32)
numpy_id = id(input_numpy)

X_numpy = torch.from_numpy(input_numpy)
numpy_X_id = id(X_numpy)

X = torch.tensor(input_numpy)
X_id = id(X)

print(numpy_id, numpy_X_id, X_id)
y = torch.tensor(targets.to_numpy(dtype=float))
X,y





y = inputs.to_numpy(dtype = float)
torch.from_numpy(y)




