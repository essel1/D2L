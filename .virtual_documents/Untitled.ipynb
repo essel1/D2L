import numpy as np
from matplotlib_inline import backend_inline
from d2l import torch as d2l



