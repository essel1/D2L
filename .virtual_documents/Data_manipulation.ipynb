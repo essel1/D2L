import torch








x = torch.arange(12, dtype = torch.float32)
x





x.numel()





x.shape





X = x.reshape(4,3)
X





torch.zeros((2,3,5))


torch.ones((2,5,5))





torch.randn(3,3)





torch.tensor([[1,2,3],[4,5,6],[7,9,9]])








X[-1]


X[0:2]





X[0,2] = 999


X


X[:3,:] = 888.


X


X.shape








torch.exp(x)





A = torch.ones(2,3)
B = torch.ones(2,3)
A = A + B
A


A-B, A*B, A**B, A/B








X = torch.arange(12, dtype = torch.float32).reshape(3,4)
Y = torch.zeros(3,4)
torch.cat((X,Y), dim = 0), torch.cat((X,Y), dim = 1)





boo = (X <= Y)
boo





X.sum()


boo.sum()  # although boo waas a tensors of True or False, it treated True as 1.








a = torch.arange(6).reshape(2,3)
b = torch.arange(3)
a,b


a+b








before = id(a)
a = a+b
before == id(a)








before = id(a)
a[:] = a+b 
before == id(a)





before = id(a)
a =+ b
before == id(a)








import numpy as np
A = np.zeros(5)
B = torch.from_numpy(A)
print(id(A), id(B))
print(id(A) == id (B))
type(A), type(B)





y = torch.tensor([1])
y,y.item(),float(y), int(y)





a_1 = torch.ones(2,3,5)
b_1 = torch.ones(2,1,1)
a_1,b_1


a_1 + b_1
